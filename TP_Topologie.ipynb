{
  "nbformat": 4,
  "nbformat_minor": 0,
  "metadata": {
    "colab": {
      "name": "TP_Topologie.ipynb",
      "provenance": [],
      "collapsed_sections": []
    },
    "kernelspec": {
      "name": "python3",
      "display_name": "Python 3"
    },
    "language_info": {
      "name": "python"
    }
  },
  "cells": [
    {
      "cell_type": "markdown",
      "source": [
        "# TP TOPOLOGIE ALGEBRIQUE"
      ],
      "metadata": {
        "id": "ZMoxhhD3EPTo"
      }
    },
    {
      "cell_type": "markdown",
      "source": [
        "##Préparer par:\n",
        "**Rami EL FEGHALI - Sory BARRY**"
      ],
      "metadata": {
        "id": "QDRuhfsREOEO"
      }
    },
    {
      "cell_type": "markdown",
      "source": [
        "## 1. Introduction"
      ],
      "metadata": {
        "id": "yl_X8Ih3EZyh"
      }
    },
    {
      "cell_type": "code",
      "source": [
        "import numpy as np\n",
        "import pandas as pd\n",
        "import math\n",
        "import matplotlib.pyplot as plt\n",
        "import statistics"
      ],
      "metadata": {
        "id": "rfgwVcfaF9A4"
      },
      "execution_count": null,
      "outputs": []
    },
    {
      "cell_type": "markdown",
      "source": [
        "## 2. Generation d'un ensemblre de sommets"
      ],
      "metadata": {
        "id": "LWPFsvHkEfr4"
      }
    },
    {
      "cell_type": "markdown",
      "source": [
        "### Question 1"
      ],
      "metadata": {
        "id": "iGKIauheElrW"
      }
    },
    {
      "cell_type": "code",
      "source": [
        "l= 100 #lambda, intensité du processus de Poisson\n",
        "a= 1 #a est le coté du carré\n",
        "\n",
        "mu= l*a*a #la mesure mu d'intensité lambda est égale à lambda*delta, avec delta la mesure de Lebesgue, \n",
        "#vu qu'on travaille dans un domaine de R**2, la mesure de Lebesgue est donc l'aire du carré de coté a\n",
        "\n",
        "N = np.random.poisson(mu)\n",
        "\n",
        "print(\"Le nombre de points est: \" , N)"
      ],
      "metadata": {
        "colab": {
          "base_uri": "https://localhost:8080/"
        },
        "id": "N4EdH23TFfdl",
        "outputId": "9467cb2c-afdc-4168-f540-ee84a2089b97"
      },
      "execution_count": null,
      "outputs": [
        {
          "output_type": "stream",
          "name": "stdout",
          "text": [
            "Le nombre de points est:  99\n"
          ]
        }
      ]
    },
    {
      "cell_type": "code",
      "source": [
        "dataset=np.zeros((N,2)) #Matrice N lignes deux colonnes contenant les coordonnées des points\n",
        "for i in range(N):\n",
        "  dataset[i][0] = np.random.uniform(0,a)\n",
        "  dataset[i][1] = np.random.uniform(0,a) "
      ],
      "metadata": {
        "id": "TvNRg84bGT2G"
      },
      "execution_count": null,
      "outputs": []
    },
    {
      "cell_type": "code",
      "source": [
        "plt.scatter(dataset[:,0],dataset[:,1])"
      ],
      "metadata": {
        "colab": {
          "base_uri": "https://localhost:8080/",
          "height": 282
        },
        "id": "o_DdZ6rSGbJ7",
        "outputId": "ef408850-72c7-4be9-c337-9ad094d99d12"
      },
      "execution_count": null,
      "outputs": [
        {
          "output_type": "execute_result",
          "data": {
            "text/plain": [
              "<matplotlib.collections.PathCollection at 0x7fc0534fe890>"
            ]
          },
          "metadata": {},
          "execution_count": 4
        },
        {
          "output_type": "display_data",
          "data": {
            "text/plain": [
              "<Figure size 432x288 with 1 Axes>"
            ],
            "image/png": "[encoded data removed]"
          },
          "metadata": {
            "needs_background": "light"
          }
        }
      ]
    },
    {
      "cell_type": "markdown",
      "source": [
        "## 3. Construction du complede simplicial"
      ],
      "metadata": {
        "id": "AMZn053XEiIm"
      }
    },
    {
      "cell_type": "markdown",
      "source": [
        "### Question 2"
      ],
      "metadata": {
        "id": "h79I0JDeEtsA"
      }
    },
    {
      "cell_type": "code",
      "source": [
        "def distance(x,y):\n",
        "  X=[float(x[0]),float(x[1])]\n",
        "  Y=[float(y[0]),float(y[1])]\n",
        "  return np.sqrt((X[0]-Y[0])**2+(X[1]-Y[1])**2)"
      ],
      "metadata": {
        "id": "Lq0cjri0N0Ki"
      },
      "execution_count": null,
      "outputs": []
    },
    {
      "cell_type": "code",
      "source": [
        "epsilon= 0.1\n",
        "zero_simplex=dataset.copy()\n",
        "\n",
        "\n",
        "un_simplex=[]\n",
        "deux_simplex=[]\n",
        "\n",
        "iterator_1=1\n",
        "for i in dataset:\n",
        "  iterator_2=iterator_1+1\n",
        "  for j in dataset[iterator_1:,:]:\n",
        "    if distance(i,j)< epsilon: \n",
        "      un_simplex.append([i,j])\n",
        "\n",
        "      for k in dataset[iterator_2:,:]:\n",
        "        if distance(i,k)< epsilon and distance(j,k)< epsilon:\n",
        "          deux_simplex.append([i,j,k])\n",
        "    iterator_2+=1\n",
        "  iterator_1+=1"
      ],
      "metadata": {
        "id": "FwXSb--EI0L0"
      },
      "execution_count": null,
      "outputs": []
    },
    {
      "cell_type": "code",
      "source": [
        "print(len(un_simplex))\n",
        "print(len(deux_simplex))"
      ],
      "metadata": {
        "colab": {
          "base_uri": "https://localhost:8080/"
        },
        "id": "PlIiHv6OXVzo",
        "outputId": "f6c25bea-0d69-429c-d1d3-4033412e304d"
      },
      "execution_count": null,
      "outputs": [
        {
          "output_type": "stream",
          "name": "stdout",
          "text": [
            "145\n",
            "82\n"
          ]
        }
      ]
    },
    {
      "cell_type": "code",
      "source": [
        "#plot 1-simplex:\n",
        "plt.scatter(dataset[:,0],dataset[:,1])\n",
        "X=[]\n",
        "Y=[]\n",
        "for i in un_simplex:\n",
        "  X=[i[0][0],i[1][0]]\n",
        "  Y=[i[0][1],i[1][1]]\n",
        "  plt.plot(X,Y,'-b')"
      ],
      "metadata": {
        "colab": {
          "base_uri": "https://localhost:8080/",
          "height": 265
        },
        "id": "8PJ2XQHkQTe-",
        "outputId": "3f68e31c-7b4d-4bce-a69a-ae504bec86f0"
      },
      "execution_count": null,
      "outputs": [
        {
          "output_type": "display_data",
          "data": {
            "text/plain": [
              "<Figure size 432x288 with 1 Axes>"
            ],
            "image/png": "[encoded data removed]"
          },
          "metadata": {
            "needs_background": "light"
          }
        }
      ]
    },
    {
      "cell_type": "code",
      "source": [
        "#plot 1-simplex:\n",
        "plt.scatter(dataset[:,0],dataset[:,1])\n",
        "for i in deux_simplex:\n",
        "  X=i[0]\n",
        "  Y=i[1]\n",
        "  Z=i[2]\n",
        "  plt.plot([X[0],Y[0]],[X[1],Y[1]],'-y')\n",
        "  plt.plot([X[0],Z[0]],[X[1],Z[1]],'-r')\n",
        "  plt.plot([Y[0],Z[0]],[Y[1],Z[1]],'-b')"
      ],
      "metadata": {
        "colab": {
          "base_uri": "https://localhost:8080/",
          "height": 265
        },
        "id": "Ddycl-AARmQj",
        "outputId": "8d07f967-7700-4da5-a6dc-563ba858aa41"
      },
      "execution_count": null,
      "outputs": [
        {
          "output_type": "display_data",
          "data": {
            "text/plain": [
              "<Figure size 432x288 with 1 Axes>"
            ],
            "image/png": "[encoded data removed]"
          },
          "metadata": {
            "needs_background": "light"
          }
        }
      ]
    },
    {
      "cell_type": "markdown",
      "source": [
        "## 4. Calcul de la topologie"
      ],
      "metadata": {
        "id": "39vedIrwEwQ-"
      }
    },
    {
      "cell_type": "markdown",
      "source": [
        "### Question 3"
      ],
      "metadata": {
        "id": "7Dp8BRfXEy1T"
      }
    },
    {
      "cell_type": "code",
      "source": [
        "#calcul de delta_1\n",
        "delta_1=np.zeros((N,len(un_simplex)))\n",
        "\n",
        "iterator=0\n",
        "for j in un_simplex:\n",
        "  delta_1[np.where(np.all(dataset==j[0],axis=1))[0][0]][iterator]=-1\n",
        "  delta_1[np.where(np.all(dataset==j[1],axis=1))[0][0]][iterator]=1\n",
        "  iterator+=1\n",
        "\n",
        "\n",
        "#calcul de delta_2\n",
        "\n",
        "delta_2=np.zeros((len(un_simplex),len(deux_simplex)))\n",
        "\n",
        "iterator=0\n",
        "tmp_un_simplex= np.array(un_simplex)\n",
        "for j in deux_simplex:\n",
        "  delta_2[np.where(np.all(tmp_un_simplex==[j[0],j[1]],axis=1))[0][0]][iterator]=1\n",
        "  delta_2[np.where(np.all(tmp_un_simplex==[j[0],j[2]],axis=1))[0][0]][iterator]=-1\n",
        "  delta_2[np.where(np.all(tmp_un_simplex==[j[1],j[2]],axis=1))[0][0]][iterator]=1\n",
        "  iterator+=1"
      ],
      "metadata": {
        "id": "_evbfZz6TVRs"
      },
      "execution_count": null,
      "outputs": []
    },
    {
      "cell_type": "markdown",
      "source": [
        "### Question 4"
      ],
      "metadata": {
        "id": "sFWv46zRE0Zm"
      }
    },
    {
      "cell_type": "code",
      "source": [
        "rang_delta_1= np.linalg.matrix_rank(delta_1)\n",
        "rang_delta_2= np.linalg.matrix_rank(delta_2)\n",
        "\n",
        "B0=N-rang_delta_1\n",
        "B1=len(un_simplex)- rang_delta_1 - rang_delta_2\n",
        "print(\"B0= \", B0 )\n",
        "print(\"B1= \", B1)"
      ],
      "metadata": {
        "colab": {
          "base_uri": "https://localhost:8080/"
        },
        "id": "_f3iE7d3nbGg",
        "outputId": "c3f056e1-9c71-42f2-b115-20e8b44d3601"
      },
      "execution_count": null,
      "outputs": [
        {
          "output_type": "stream",
          "name": "stdout",
          "text": [
            "B0=  17\n",
            "B1=  3\n"
          ]
        }
      ]
    },
    {
      "cell_type": "markdown",
      "source": [
        "En effet on peut verifier le resultat sur la figure du un_simplex en comptant le nombre de comosante complexe et qui doit correspondre a B0 , et le nombre de trou de couverture correspond a B1"
      ],
      "metadata": {
        "id": "CfZ7WbN-nMyJ"
      }
    },
    {
      "cell_type": "markdown",
      "source": [
        "### Question 5"
      ],
      "metadata": {
        "id": "OUHDsb4fE1N1"
      }
    },
    {
      "cell_type": "code",
      "source": [
        "print(\"Etant dans un espace de dimension 2, la caractéristique d'Euler est :\", B0-B1)"
      ],
      "metadata": {
        "colab": {
          "base_uri": "https://localhost:8080/"
        },
        "id": "DkvU2Hrcqbep",
        "outputId": "eebbb3dc-e1d9-43a5-a024-73f94730bf1b"
      },
      "execution_count": null,
      "outputs": [
        {
          "output_type": "stream",
          "name": "stdout",
          "text": [
            "Etant dans un espace de dimension 2, la caractéristique d'Euler est : 14\n"
          ]
        }
      ]
    },
    {
      "cell_type": "markdown",
      "source": [
        "## 5. Resultats en moyenne\n",
        "\n",
        "*Il est conseillé de ne pas run les cellules en bas car cela va prendre +-45min (google colab) et de juste voir le resultat de notre simulation*"
      ],
      "metadata": {
        "id": "XuhDi7GuE2Mj"
      }
    },
    {
      "cell_type": "markdown",
      "source": [
        "### Question 6"
      ],
      "metadata": {
        "id": "-r0BqnPqE7qa"
      }
    },
    {
      "cell_type": "code",
      "source": [
        "def function(l): #mise en fonction des codes precedents dans le but de simuler une boucle\n",
        "  a= 1 \n",
        "  mu= l*a*a \n",
        "  N=0\n",
        "  while N==0: #pour eveiter d'avoir 0 points quand lambda est faible\n",
        "    N = np.random.poisson(mu)\n",
        "\n",
        "\n",
        "  dataset=np.zeros((N,2)) \n",
        "  for i in range(N):\n",
        "    dataset[i][0] = np.random.uniform(0,a)\n",
        "    dataset[i][1] = np.random.uniform(0,a) \n",
        "\n",
        "\n",
        "  epsilon= 0.1\n",
        "  zero_simplex=dataset.copy()\n",
        "\n",
        "\n",
        "  un_simplex=[]\n",
        "  deux_simplex=[]\n",
        "\n",
        "  iterator_1=1\n",
        "  for i in dataset:\n",
        "    iterator_2=iterator_1+1\n",
        "    for j in dataset[iterator_1:,:]:\n",
        "      if distance(i,j)< epsilon: \n",
        "        un_simplex.append([i,j])\n",
        "\n",
        "        for k in dataset[iterator_2:,:]:\n",
        "          if distance(i,k)< epsilon and distance(j,k)< epsilon:\n",
        "            deux_simplex.append([i,j,k])\n",
        "      iterator_2+=1\n",
        "    iterator_1+=1\n",
        "\n",
        "\n",
        "  delta_1=np.zeros((N,len(un_simplex)))\n",
        "\n",
        "  iterator=0\n",
        "  for j in un_simplex:\n",
        "    delta_1[np.where(np.all(dataset==j[0],axis=1))[0][0]][iterator]=-1\n",
        "    delta_1[np.where(np.all(dataset==j[1],axis=1))[0][0]][iterator]=1\n",
        "    iterator+=1\n",
        "\n",
        "\n",
        "\n",
        "  delta_2=np.zeros((len(un_simplex),len(deux_simplex)))\n",
        "\n",
        "  iterator=0\n",
        "  tmp_un_simplex= np.array(un_simplex)\n",
        "  for j in deux_simplex:\n",
        "    delta_2[np.where(np.all(tmp_un_simplex==[j[0],j[1]],axis=1))[0][0]][iterator]=1\n",
        "    delta_2[np.where(np.all(tmp_un_simplex==[j[0],j[2]],axis=1))[0][0]][iterator]=-1\n",
        "    delta_2[np.where(np.all(tmp_un_simplex==[j[1],j[2]],axis=1))[0][0]][iterator]=1\n",
        "    iterator+=1\n",
        "\n",
        "\n",
        "  if delta_1.size==0:  #pour eviter une erreur de code dans la fonction linal.matrix_rank quand la matrice est nulle\n",
        "    rang_delta_1=0\n",
        "  else:\n",
        "    rang_delta_1= np.linalg.matrix_rank(delta_1)\n",
        "  if delta_2.size==0:\n",
        "      rang_delta_2=0\n",
        "  else:\n",
        "    rang_delta_2= np.linalg.matrix_rank(delta_2)\n",
        "\n",
        "  B0=N-rang_delta_1\n",
        "  B1=len(un_simplex)- rang_delta_1 - rang_delta_2\n",
        "\n",
        "  ksi= B0-B1\n",
        "\n",
        "\n",
        "\n",
        "  return B0,B1,ksi"
      ],
      "metadata": {
        "id": "eTRUr4zTvBow"
      },
      "execution_count": null,
      "outputs": []
    },
    {
      "cell_type": "code",
      "source": [
        "# temps de simulation +-46min\n",
        "B0=[]\n",
        "B1=[]\n",
        "ksi=[]\n",
        "lbd=[]\n",
        "for l in range(1,201):\n",
        "  print(l)\n",
        "  lbd.append(l)\n",
        "  B0_tmp=[]\n",
        "  B1_tmp=[]\n",
        "  ksi_tmp=[]\n",
        "  t1,t2,t3=0,0,0\n",
        "  for s in range(100):\n",
        "    t1,t2,t3=function(l)\n",
        "    B0_tmp.append(t1)\n",
        "    B1_tmp.append(t2)\n",
        "    ksi_tmp.append(t3)\n",
        "\n",
        "  B0.append(statistics.mean(B0_tmp))\n",
        "  B1.append(statistics.mean(B1_tmp))\n",
        "  ksi.append(statistics.mean(ksi_tmp))"
      ],
      "metadata": {
        "id": "1dbSOj69wICu"
      },
      "execution_count": null,
      "outputs": []
    },
    {
      "cell_type": "code",
      "source": [
        "print(\"B0: \",B0)\n",
        "print(\"B1: \", B1)\n",
        "print(\"ksi: \", ksi)\n",
        "\n",
        "plt.plot(lbd,B0,\"-b\",label=\"B0 en fonction de lambda\")\n",
        "plt.plot(lbd,B1,\"-r\",label=\"B1 en fonction de lambda\")\n",
        "plt.plot(lbd,ksi,\"-g\",label=\"ksi en fonction de lambda\")\n",
        "plt.legend()"
      ],
      "metadata": {
        "colab": {
          "base_uri": "https://localhost:8080/",
          "height": 354
        },
        "id": "rBRPmo9KAjYN",
        "outputId": "593bb49d-69e4-4426-ec07-23d103a35dec"
      },
      "execution_count": null,
      "outputs": [
        {
          "output_type": "stream",
          "name": "stdout",
          "text": [
            "B0:  [1, 2, 3, 3, 4, 5, 6, 6, 8, 8, 9, 9, 10, 11, 11, 12, 12, 13, 14, 14, 15, 16, 15, 16, 16, 18, 17, 18, 18, 19, 20, 19, 20, 20, 20, 20, 21, 21, 21, 21, 21, 22, 22, 22, 22, 23, 23, 22, 22, 23, 23, 23, 23, 22, 23, 23, 22, 23, 23, 23, 23, 23, 23, 23, 23, 23, 23, 23, 23, 23, 23, 22, 22, 22, 22, 21, 22, 21, 21, 21, 21, 21, 20, 20, 20, 20, 20, 20, 19, 20, 19, 20, 19, 19, 19, 19, 19, 18, 18, 18, 18, 18, 17, 17, 17, 16, 17, 16, 17, 15, 16, 15, 15, 15, 16, 14, 14, 15, 15, 14, 13, 14, 13, 14, 13, 14, 12, 12, 12, 12, 11, 12, 11, 11, 11, 11, 11, 11, 11, 10, 10, 10, 9, 10, 10, 10, 9, 9, 8, 9, 9, 9, 8, 8, 8, 8, 7, 7, 7, 8, 7, 7, 7, 7, 7, 7, 7, 6, 6, 6, 6, 6, 6, 5, 6, 6, 6, 5, 5, 5, 5, 5, 5, 5, 5, 4, 5, 4, 4, 4, 4, 4, 4, 4, 4, 4, 4, 4, 4, 4]\n",
            "B1:  [0, 0, 0, 0, 0, 0, 0, 0, 0, 0, 0, 0, 0, 0, 0, 0, 0, 0, 0, 0, 0, 0, 0, 0, 0, 0, 0, 0, 0, 0, 0, 0, 0, 0, 0, 0, 0, 0, 0, 0, 0, 0, 0, 0, 0, 0, 0, 0, 0, 0, 0, 0, 0, 0, 0, 0, 0, 0, 0, 0, 0, 0, 0, 0, 0, 0, 0, 0, 0, 0, 0, 0, 0, 0, 0, 0, 0, 0, 0, 0, 0, 0, 0, 0, 0, 0, 0, 0, 0, 0, 0, 1, 1, 0, 1, 1, 1, 1, 1, 1, 1, 1, 1, 1, 1, 1, 1, 1, 1, 1, 1, 1, 1, 1, 1, 2, 2, 2, 2, 2, 2, 2, 2, 2, 2, 2, 3, 2, 2, 3, 3, 3, 3, 3, 3, 3, 3, 3, 4, 3, 3, 4, 4, 4, 4, 4, 4, 4, 5, 5, 4, 5, 5, 5, 5, 6, 6, 5, 6, 6, 6, 6, 5, 6, 6, 6, 7, 7, 6, 7, 7, 8, 7, 7, 7, 8, 7, 8, 8, 7, 9, 9, 9, 9, 9, 9, 9, 9, 10, 9, 10, 10, 10, 10, 10, 10, 10, 10, 11, 10]\n",
            "ksi:  [1, 2, 3, 3, 4, 5, 6, 6, 8, 8, 9, 9, 10, 11, 11, 12, 12, 13, 14, 14, 15, 16, 15, 16, 16, 18, 17, 18, 18, 19, 20, 19, 20, 20, 20, 20, 21, 21, 21, 21, 21, 22, 22, 22, 22, 23, 23, 22, 22, 23, 23, 23, 23, 22, 22, 23, 22, 23, 23, 23, 23, 23, 23, 23, 23, 22, 22, 22, 23, 22, 22, 22, 22, 22, 21, 21, 21, 21, 21, 21, 21, 20, 20, 20, 20, 20, 19, 19, 18, 20, 18, 19, 18, 18, 18, 18, 17, 17, 16, 17, 17, 16, 16, 15, 16, 15, 15, 15, 15, 14, 14, 13, 14, 13, 14, 12, 12, 13, 12, 11, 11, 11, 10, 12, 10, 11, 9, 9, 9, 9, 8, 8, 8, 8, 8, 8, 7, 7, 7, 7, 7, 5, 5, 6, 5, 5, 5, 5, 3, 3, 4, 3, 3, 2, 3, 1, 1, 1, 1, 1, 1, 0, 1, 0, 1, 0, 0, 0, 0, -1, -1, -2, 0, -2, -1, -2, -1, -2, -2, -1, -4, -3, -4, -4, -4, -4, -4, -4, -5, -4, -5, -6, -5, -5, -6, -6, -6, -6, -7, -6]\n"
          ]
        },
        {
          "output_type": "execute_result",
          "data": {
            "text/plain": [
              "<matplotlib.legend.Legend at 0x7feed8e2cb90>"
            ]
          },
          "metadata": {},
          "execution_count": 28
        },
        {
          "output_type": "display_data",
          "data": {
            "text/plain": [
              "<Figure size 432x288 with 1 Axes>"
            ],
            "image/png": "[encoded data removed]"
          },
          "metadata": {
            "needs_background": "light"
          }
        }
      ]
    },
    {
      "cell_type": "markdown",
      "source": [
        "### Question 7"
      ],
      "metadata": {
        "id": "NrOoDAnrE9um"
      }
    },
    {
      "cell_type": "markdown",
      "source": [
        "* Courbe B0 (bleu):\\\n",
        "On remarque que la courbe bleu augmente quand lambda augmente et cela jusqu'a un maximum donné au alentour de lambda=50 pour ensuite diminuer vers 1.\\\n",
        "En effet, B0 signifie le nombre de composante connexe, et donc le nombre de composante connexe commence par etre assez proche du nombre de point present, surtout pour un lambda petit (peu de point dans l'espace) et pour un epsilon petit. Quand lambda augmente, le nombre depoint augement et donc plus de point seronnt proche d'une distance expsilon et donc des composante connexe vont commencer à se former. A la limite quand on aura beaucoup de points dans l'espace on aura plus qu'une seule composante connexe.\n",
        "\n",
        "* Courbe B1 (rouge):\\\n",
        "On remarque que cette courbe est nulle au debut pour ensiute commencer à augmenter quand lambda augmente.\\\n",
        "En effet, B1 reprensente le nombre de trou de couverture, or au debut quand on a peu de point on en a aucun. Ce nombre commence à augmenter au fur et à mesure qu'on a plus de point dans le plan.\n",
        "\n",
        "* Courbe ksi (vert):\\\n",
        "On remarque que cette courbe qui en fait est la difference entre B0 et B1 suis les memes variations que B0. Mais avec une decroissance plus rapide."
      ],
      "metadata": {
        "id": "WYj_60im2EjL"
      }
    }
  ]
}