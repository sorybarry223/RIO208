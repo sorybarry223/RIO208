{
  "cells": [
    {
      "cell_type": "markdown",
      "metadata": {
        "id": "Nz1ZTljdelBi"
      },
      "source": [
        "# TP FITTING - Etude de déploiements"
      ]
    },
    {
      "cell_type": "markdown",
      "metadata": {
        "id": "LWuGMujER303"
      },
      "source": [
        "##Préparer par:\n",
        "**Rami EL FEGHALI - Sory BARRY**"
      ]
    },
    {
      "cell_type": "markdown",
      "metadata": {
        "id": "LvET1C3keUfz"
      },
      "source": [
        "## 1. Objectif"
      ]
    },
    {
      "cell_type": "code",
      "execution_count": null,
      "metadata": {
        "id": "OHeXLdK6d1zH"
      },
      "outputs": [],
      "source": [
        "import numpy as np\n",
        "import pandas as pd\n",
        "import math\n",
        "import matplotlib.pyplot as plt\n",
        "import matplotlib.patches as mpatches"
      ]
    },
    {
      "cell_type": "markdown",
      "metadata": {
        "id": "WK9EuiYBeXNc"
      },
      "source": [
        "## 2. Intensité du processus\n",
        "\n"
      ]
    },
    {
      "cell_type": "markdown",
      "metadata": {
        "id": "Nw0e7PMzegIm"
      },
      "source": [
        "### Question 1\n",
        "\n",
        "Nous allons considerer les stations de base de l'opérateur Orange pour LTE."
      ]
    },
    {
      "cell_type": "code",
      "execution_count": null,
      "metadata": {
        "colab": {
          "base_uri": "https://localhost:8080/",
          "height": 296
        },
        "id": "QLTO1lSShide",
        "outputId": "1dd48ab9-2f41-4681-b06a-bc6bae68b225"
      },
      "outputs": [
        {
          "output_type": "execute_result",
          "data": {
            "text/plain": [
              "<matplotlib.patches.Rectangle at 0x7ff8b4551050>"
            ]
          },
          "metadata": {},
          "execution_count": 147
        },
        {
          "output_type": "display_data",
          "data": {
            "text/plain": [
              "<Figure size 432x288 with 1 Axes>"
            ],
            "image/png": "[encoded data removed]"
          },
          "metadata": {
            "needs_background": "light"
          }
        }
      ],
      "source": [
        "df  = pd.read_csv(\"sfr_umts.csv\")\n",
        "df.plot(kind='scatter',x='Longitude',y='Latitude', marker='+') # scatter plot\n",
        "\n",
        "#a changer a la main \n",
        "left, bottom, width, height = (-4800, -3000, 10000, 5500)\n",
        "\n",
        "\n",
        "\n",
        "\n",
        "\n",
        "rect=mpatches.Rectangle((left,bottom),width,height, \n",
        "                        fill=False,\n",
        "                        color=\"red\",\n",
        "                       linewidth=2)\n",
        "plt.gca().add_patch(rect)"
      ]
    },
    {
      "cell_type": "markdown",
      "metadata": {
        "id": "ZCliXzPteyW8"
      },
      "source": [
        "### Question 2"
      ]
    },
    {
      "cell_type": "code",
      "execution_count": null,
      "metadata": {
        "colab": {
          "base_uri": "https://localhost:8080/"
        },
        "id": "IDIEHYK-vjra",
        "outputId": "e4774ce7-35b3-46c5-bbdb-92286ea11d24"
      },
      "outputs": [
        {
          "output_type": "stream",
          "name": "stdout",
          "text": [
            "lambda =  5.0181818181818186e-06 ( nb de station par metre)\n"
          ]
        }
      ],
      "source": [
        "def calcul_nb_base(df,left, bottom, width, height):\n",
        "  nb=0\n",
        "  limit_x_1= left\n",
        "  limit_x_2= left + width\n",
        "  limit_y_1= bottom\n",
        "  limit_y_2= bottom + height\n",
        "\n",
        "  for index,j in df.iterrows():\n",
        "    if (j['Longitude'] > limit_x_1 and j['Longitude'] <limit_x_2 and j['Latitude'] >  limit_y_1 and j['Latitude'] < limit_y_2 ):\n",
        "        nb=nb+1\n",
        "  return nb\n",
        "\n",
        "nbr_de_point_fenetre = calcul_nb_base(df,left, bottom, width, height)\n",
        "surface=  width * height\n",
        "\n",
        "l= nbr_de_point_fenetre/surface\n",
        "print(\"lambda = \", l ,\"( nb de station par metre)\")"
      ]
    },
    {
      "cell_type": "markdown",
      "metadata": {
        "id": "XXx8StmZe0OO"
      },
      "source": [
        "## 3. Calcul des fonctions F, G et J"
      ]
    },
    {
      "cell_type": "markdown",
      "metadata": {
        "id": "9kmBMsn8e35j"
      },
      "source": [
        "### Question 3"
      ]
    },
    {
      "cell_type": "code",
      "execution_count": null,
      "metadata": {
        "id": "PEHuiD1o5hX6"
      },
      "outputs": [],
      "source": [
        "#calcul des positions des points dans la fenetre\n",
        "def calcul_position_fenetre(df):\n",
        "  nb=0\n",
        "  limit_x_1= left\n",
        "  limit_x_2= left + width\n",
        "  limit_y_1= bottom\n",
        "  limit_y_2= bottom + height\n",
        "  position=[]\n",
        "  for index,j in df.iterrows():\n",
        "    if (j['Longitude'] > limit_x_1 and j['Longitude'] <limit_x_2 and j['Latitude'] >  limit_y_1 and j['Latitude'] < limit_y_2 ):\n",
        "        position.append([j['Longitude'],j['Latitude']])\n",
        "  return position\n",
        "\n",
        "#array contenant les coordonnees des BS a l'interieur de la fenetre\n",
        "array_fenetre= np.array(calcul_position_fenetre(df))\n",
        "df_fenetre= pd.DataFrame(array_fenetre,columns =['Longitude','Latitude'])\n"
      ]
    },
    {
      "cell_type": "code",
      "source": [
        "len(array_fenetre)"
      ],
      "metadata": {
        "colab": {
          "base_uri": "https://localhost:8080/"
        },
        "id": "wB0TLFK13TW4",
        "outputId": "77aae837-cd95-4b55-a45b-bf7f39f2ae75"
      },
      "execution_count": null,
      "outputs": [
        {
          "output_type": "execute_result",
          "data": {
            "text/plain": [
              "276"
            ]
          },
          "metadata": {},
          "execution_count": 150
        }
      ]
    },
    {
      "cell_type": "code",
      "execution_count": null,
      "metadata": {
        "id": "FBgejWsFy_sn"
      },
      "outputs": [],
      "source": [
        "def distance(x,y):\n",
        "  X=[float(x[0]),float(x[1])]\n",
        "  Y=[float(y[0]),float(y[1])]\n",
        "  return np.sqrt((X[0]-Y[0])**2+(X[1]-Y[1])**2)\n",
        "\n",
        "def distance_plus_proche(point):\n",
        "  #tirage d'un point aleatoire dans la fenetre\n",
        "  d=1000000\n",
        "\n",
        "  nb=0\n",
        "  for t,i in df.iterrows(): \n",
        "    bts= [i['Longitude'],i['Latitude']] # coordonné d'une bts\n",
        "    tmp=distance(point,bts)\n",
        "    #condition pour eviter de prendre le voisin le plus proche comme etant le point choisi\n",
        "    if(tmp!=0 and tmp<d):\n",
        "        d= tmp\n",
        "\n",
        "  return d\n",
        "\n",
        "\n",
        "def F(rayon,distance_plusProche_voisin_points):\n",
        "  nb=0\n",
        "  for d in distance_plusProche_voisin_points:\n",
        "    if(d<=rayon):\n",
        "        nb=nb+1\n",
        "  return nb/len(distance_plusProche_voisin_points)\n"
      ]
    },
    {
      "cell_type": "code",
      "source": [
        "#tirage des 1000 points\n",
        "points=[]\n",
        "for i in range(1000):\n",
        "    point=[np.random.uniform(left, left+ width),np.random.uniform(bottom, bottom + height)]\n",
        "    points.append(point)\n",
        "\n",
        "#calcul de la distance du plus proche voisin pour chaqu'un des points tirés\n",
        "distance_plusProche_voisin_points_f=[]\n",
        "for i in points:\n",
        "  distance_plusProche_voisin_points_f.append(distance_plus_proche(i))"
      ],
      "metadata": {
        "id": "SQNVllxf08NV"
      },
      "execution_count": null,
      "outputs": []
    },
    {
      "cell_type": "code",
      "source": [
        "#Calcul de la fonction f en variant r de 1 a 700 par pas de 0,1\n",
        "\n",
        "tmp1_f=[]\n",
        "for r in range(7001):\n",
        "  f= F(r/10,distance_plusProche_voisin_points_f)\n",
        "  tmp1_f.append([r,f])"
      ],
      "metadata": {
        "id": "4bRgNpCb5zp4"
      },
      "execution_count": null,
      "outputs": []
    },
    {
      "cell_type": "code",
      "source": [
        "#plot du resultat, f en fonction de r\n",
        "tmp2_f= np.array(tmp1_f)\n",
        "tmp2_f_X= tmp2_f[:,0]\n",
        "tmp2_f_Y= tmp2_f[:,1]\n",
        "\n",
        "plt.plot(tmp2_f_X,tmp2_f_Y)\n",
        "plt.title(\"f en fonction du rayon en décimètre\")"
      ],
      "metadata": {
        "colab": {
          "base_uri": "https://localhost:8080/",
          "height": 298
        },
        "id": "wNUcPB-26dds",
        "outputId": "1aaa3686-2e6c-4f91-cc6e-37ad4e98968b"
      },
      "execution_count": null,
      "outputs": [
        {
          "output_type": "execute_result",
          "data": {
            "text/plain": [
              "Text(0.5, 1.0, 'f en fonction du rayon en décimètre')"
            ]
          },
          "metadata": {},
          "execution_count": 154
        },
        {
          "output_type": "display_data",
          "data": {
            "text/plain": [
              "<Figure size 432x288 with 1 Axes>"
            ],
            "image/png": "[encoded data removed]"
          },
          "metadata": {
            "needs_background": "light"
          }
        }
      ]
    },
    {
      "cell_type": "markdown",
      "metadata": {
        "id": "G96mmqY8e5Vs"
      },
      "source": [
        "### Question 4"
      ]
    },
    {
      "cell_type": "code",
      "execution_count": null,
      "metadata": {
        "id": "AHV9HEiiE4nC"
      },
      "outputs": [],
      "source": [
        "def G(rayon,distance_plusProche_voisin_points):\n",
        "  nb=0\n",
        "  \n",
        "  for d in distance_plusProche_voisin_points:\n",
        "    if(d<=rayon ):\n",
        "      nb=nb+1\n",
        "  return nb/len(distance_plusProche_voisin_points)"
      ]
    },
    {
      "cell_type": "code",
      "source": [
        "#calcul de la distance du plus proche voisin pour \n",
        "#chaqu'une des stations de base de la fenetre\n",
        "\n",
        "distance_plusProche_voisin_points_g=[]\n",
        "for i in array_fenetre:\n",
        "  distance_plusProche_voisin_points_g.append(distance_plus_proche(i))"
      ],
      "metadata": {
        "id": "H17KBALK-Hgi"
      },
      "execution_count": null,
      "outputs": []
    },
    {
      "cell_type": "code",
      "source": [
        "#Calcul de la fonction g en variant r de 1 a 700 par pas de 0,1\n",
        "\n",
        "tmp1_g=[]\n",
        "for r in range(7001):\n",
        "  g= G(r/10,distance_plusProche_voisin_points_g)\n",
        "  tmp1_g.append([r,g])"
      ],
      "metadata": {
        "id": "hQW4ei-h_Y1A"
      },
      "execution_count": null,
      "outputs": []
    },
    {
      "cell_type": "code",
      "source": [
        "#plot du resultat, f en fonction de r\n",
        "tmp2_g= np.array(tmp1_g)\n",
        "tmp2_g_X= tmp2_g[:,0]\n",
        "tmp2_g_Y= tmp2_g[:,1]\n",
        "\n",
        "plt.plot(tmp2_g_X,tmp2_g_Y)\n",
        "plt.title(\"g en fonction du rayon en décimètre\")"
      ],
      "metadata": {
        "colab": {
          "base_uri": "https://localhost:8080/",
          "height": 298
        },
        "id": "5-jX2bKQ_j6I",
        "outputId": "fa88c602-d2de-4bbd-fe41-b6a03243644c"
      },
      "execution_count": null,
      "outputs": [
        {
          "output_type": "execute_result",
          "data": {
            "text/plain": [
              "Text(0.5, 1.0, 'g en fonction du rayon en décimètre')"
            ]
          },
          "metadata": {},
          "execution_count": 158
        },
        {
          "output_type": "display_data",
          "data": {
            "text/plain": [
              "<Figure size 432x288 with 1 Axes>"
            ],
            "image/png": "[encoded data removed]"
          },
          "metadata": {
            "needs_background": "light"
          }
        }
      ]
    },
    {
      "cell_type": "markdown",
      "metadata": {
        "id": "Hap_ePIAe7gE"
      },
      "source": [
        "### Question 5"
      ]
    },
    {
      "cell_type": "code",
      "source": [
        "#Calcul de la fonction j\n",
        "tmp1_j=[]\n",
        "for r in range(3001):\n",
        "  tmp1_j.append([r,(1-tmp1_g[r][1])/(1-tmp1_f[r][1])])"
      ],
      "metadata": {
        "id": "7B3ZJpoKArrt"
      },
      "execution_count": null,
      "outputs": []
    },
    {
      "cell_type": "code",
      "source": [
        "#plot du resultat, f en fonction de r\n",
        "tmp2_j= np.array(tmp1_j)\n",
        "tmp2_j_X= tmp2_j[:,0]\n",
        "tmp2_j_Y= tmp2_j[:,1]\n",
        "\n",
        "plt.plot(tmp2_j_X,tmp2_j_Y)\n",
        "plt.title(\"j en fonction du rayon en décimètre\")"
      ],
      "metadata": {
        "colab": {
          "base_uri": "https://localhost:8080/",
          "height": 298
        },
        "id": "jcnQ4hnGCLpP",
        "outputId": "9d04016b-dfe8-4a99-abed-6f09361b21a9"
      },
      "execution_count": null,
      "outputs": [
        {
          "output_type": "execute_result",
          "data": {
            "text/plain": [
              "Text(0.5, 1.0, 'j en fonction du rayon en décimètre')"
            ]
          },
          "metadata": {},
          "execution_count": 160
        },
        {
          "output_type": "display_data",
          "data": {
            "text/plain": [
              "<Figure size 432x288 with 1 Axes>"
            ],
            "image/png": "[encoded data removed]"
          },
          "metadata": {
            "needs_background": "light"
          }
        }
      ]
    },
    {
      "cell_type": "markdown",
      "metadata": {
        "id": "hFtAPz-Je8np"
      },
      "source": [
        "### Question 6"
      ]
    },
    {
      "cell_type": "markdown",
      "source": [
        "La fonction J est supérieure à 1 et donc le processus ponctuel est répulsif."
      ],
      "metadata": {
        "id": "e94iG8GnDW4o"
      }
    },
    {
      "cell_type": "markdown",
      "metadata": {
        "id": "y1gP3Oume9lM"
      },
      "source": [
        "## 4. Fitting"
      ]
    },
    {
      "cell_type": "markdown",
      "metadata": {
        "id": "syyUp5rjfBue"
      },
      "source": [
        "### Question 7"
      ]
    },
    {
      "cell_type": "code",
      "source": [
        "beta= 1\n",
        "condition= True\n",
        "tmp_E=float('inf')\n",
        "while condition:\n",
        "  E=0\n",
        "\n",
        "  for r in range(3001):\n",
        "    tmp=1/(1-beta+beta*np.exp(-(l*np.pi*(r/10)**2)/beta))\n",
        "    E=E+(tmp-tmp2_j_Y[r])**2\n",
        "\n",
        "  if(E>tmp_E):\n",
        "    condition= False\n",
        "  else:\n",
        "    tmp_E=E\n",
        "    beta=beta-0.01\n",
        "# le beta qu'on cherche est celui juste avant que la variation\n",
        "beta_final=beta +0.01\n",
        "print(\"La valeur de beta est : \", round(beta_final,2)) "
      ],
      "metadata": {
        "colab": {
          "base_uri": "https://localhost:8080/"
        },
        "id": "9X0Qe8IDElrx",
        "outputId": "f154ea8f-3ad5-4b51-82fa-5309d9e6baf5"
      },
      "execution_count": null,
      "outputs": [
        {
          "output_type": "stream",
          "name": "stdout",
          "text": [
            "La valeur de beta est :  0.15\n"
          ]
        }
      ]
    },
    {
      "cell_type": "markdown",
      "metadata": {
        "id": "fSHSFDkMfEXf"
      },
      "source": [
        "### Question 8"
      ]
    },
    {
      "cell_type": "code",
      "source": [
        "j_theo=[]\n",
        "\n",
        "for r in range(3001):\n",
        "  tmp=1/(1-beta_final+beta_final*np.exp(-(l*np.pi*(r/10)**2)/beta_final))\n",
        "  j_theo.append(tmp)"
      ],
      "metadata": {
        "id": "xI2aiIIRSCJ4"
      },
      "execution_count": null,
      "outputs": []
    },
    {
      "cell_type": "code",
      "source": [
        "#plot du resultat, f en fonction de r\n",
        "\n",
        "plt.plot(tmp2_j_X,j_theo,\"-b\",label=\"j theo\")\n",
        "plt.plot(tmp2_j_X,tmp2_j_Y,\"-r\",label=\"j pratique\")\n",
        "plt.title(\"j en fonction du rayon en décimètre\")\n",
        "plt.legend()"
      ],
      "metadata": {
        "id": "-9zr1nL-Oysn",
        "colab": {
          "base_uri": "https://localhost:8080/",
          "height": 298
        },
        "outputId": "56cb59e5-45fe-4741-a56e-7d14cf758182"
      },
      "execution_count": null,
      "outputs": [
        {
          "output_type": "execute_result",
          "data": {
            "text/plain": [
              "<matplotlib.legend.Legend at 0x7ff8b434eb50>"
            ]
          },
          "metadata": {},
          "execution_count": 163
        },
        {
          "output_type": "display_data",
          "data": {
            "text/plain": [
              "<Figure size 432x288 with 1 Axes>"
            ],
            "image/png": "[encoded data removed]"
          },
          "metadata": {
            "needs_background": "light"
          }
        }
      ]
    },
    {
      "cell_type": "markdown",
      "metadata": {
        "id": "UU1Dbu5FfFOb"
      },
      "source": [
        "### Question 9"
      ]
    },
    {
      "cell_type": "markdown",
      "source": [
        ""
      ],
      "metadata": {
        "id": "aU_ZJzUWU-4c"
      }
    },
    {
      "cell_type": "markdown",
      "metadata": {
        "id": "xh3eOUXZfGbZ"
      },
      "source": [
        "## 5. Stratégie de déploiement"
      ]
    },
    {
      "cell_type": "markdown",
      "metadata": {
        "id": "eBgdnOBFfK-4"
      },
      "source": [
        "### Question 10"
      ]
    },
    {
      "cell_type": "markdown",
      "source": [
        "En changeant les données d'excel dans le debut du code et en faisant un run à chaque fois on tire les valeurs suivantes:\n",
        "\n",
        "* bt_gsm:\\\n",
        "  lambda= 4.418181818181818e-06 et beta = 0.69\n",
        "\n",
        "* bt_lte:\\\n",
        "  lambda= 4.381818181818182e-06 et beta = 0.58\n",
        "\n",
        "* bt_umts:\\\n",
        "  lambda= 4.527272727272727e-06 et beta = 0.54\n",
        "\n",
        "* free_lte:\\\n",
        "  lambda= 2.581818181818182e-06 et beta = 1\n",
        "\n",
        "* free_umts:\\\n",
        "  lambda= 2.581818181818182e-06 et beta = 1\n",
        "\n",
        "* o_gsm:\\\n",
        "  lambda= 4e-06 et beta = 0.66\n",
        "\n",
        "* o_lte:\\\n",
        "  lambda= 3.818181818181818e-06 et beta = 0.75\n",
        "\n",
        "* o_umts:\\\n",
        "  lambda= 4.0727272727272725e-06 et beta = 0.74\n",
        "\n",
        "* sfr_gms:\\\n",
        "  lambda= 4.5454545454545455e-06 et beta = 0.14\n",
        "\n",
        "* sfr_lte:\\\n",
        "  lambda= 4.490909090909091e-06 et beta = 0.19\n",
        "\n",
        "* sfr_umts:\\\n",
        "  lambda= 5.0181818181818186e-06 et beta = 0.15\n"
      ],
      "metadata": {
        "id": "ZNiByxSpXZKo"
      }
    },
    {
      "cell_type": "markdown",
      "metadata": {
        "id": "_vVy1zgIfMFE"
      },
      "source": [
        "### Question 11"
      ]
    },
    {
      "cell_type": "markdown",
      "source": [
        "D'après les valeurs de beta trouvées dans la question précédente, on remarque que sfr et la seule qui adopte une stratégie de déploiement proche d'un processus de Poisson avec un Beta qui tend vers 0 et donc des amas de bts.\\\n",
        "D'autre part, bouygues, orange adoptent plutot une stratégie de déploiement selon un processus Beta-Ginibre mais pour orange il y a plus de repulsion.\\\n",
        "Et finalement pour free, on voit que la stratégie de deploiement est 1-Ginibre donc une repulsion maximale."
      ],
      "metadata": {
        "id": "5y7tsbO5cWq6"
      }
    }
  ],
  "metadata": {
    "colab": {
      "collapsed_sections": [],
      "name": "TP_Fitting.ipynb",
      "provenance": []
    },
    "kernelspec": {
      "display_name": "Python 3",
      "name": "python3"
    },
    "language_info": {
      "name": "python"
    }
  },
  "nbformat": 4,
  "nbformat_minor": 0
}